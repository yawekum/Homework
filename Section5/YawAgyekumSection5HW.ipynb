{
 "cells": [
  {
   "attachments": {},
   "cell_type": "markdown",
   "metadata": {},
   "source": [
    "# 1. What does Pandas stand for?\n",
    "### Panel Data and Python Data Analysis\n",
    "\n",
    "# 2. What are the 2 collections used in Pandas?\n",
    "### Panda Series and Panda DataFrames\n",
    "\n",
    "# 3. Name 4 things Pandas can do for us.\n",
    "### Load, manipulate, prepare, & analyze.\n",
    "\n",
    "# 4. To permanently sort a DataFrame, which keyword should one use with the df.sort() method?\n",
    "### inplace = True\n",
    "\n",
    "# 5. What is a CSV\n",
    "### Data separated by commas; can also be separated by semi-colon, colon, vertical bar & tab. \n",
    "\n",
    "# 6. When cleaning data what values do we not like in our data?\n",
    "### Null"
   ]
  },
  {
   "cell_type": "code",
   "execution_count": 154,
   "metadata": {},
   "outputs": [
    {
     "name": "stdout",
     "output_type": "stream",
     "text": [
      "[[[ 0  1]\n",
      "  [ 2  3]\n",
      "  [ 5  6]]\n",
      "\n",
      " [[ 4  7]\n",
      "  [ 9 10]\n",
      "  [12 11]]]\n"
     ]
    }
   ],
   "source": [
    "# Do NOT do questions 10, 17-19 \n",
    "# 7. Import NumPy, use one of the NumPy methods and create an array with a shape of ... (2, 3, 2). You can use the reshape method -- .reshape()\n",
    "\n",
    "import numpy as np\n",
    "\n",
    "arrayA = np.arange(12)\n",
    "\n",
    "arrayB = np.array([[0, 1], [2, 3]])\n",
    "arrayD = np.array([[5, 6]])\n",
    "arrayE = np.array([[4, 7], [9, 10], [12, 11]])\n",
    "\n",
    "arrayC = np.concatenate((arrayB, arrayD, arrayE), axis=0)\n",
    "arrayAReshape = arrayC.reshape(2, 3, 2)\n",
    "\n",
    "print(arrayAReshape)"
   ]
  },
  {
   "cell_type": "code",
   "execution_count": 155,
   "metadata": {},
   "outputs": [
    {
     "data": {
      "text/plain": [
       "array([ 0.,  4.,  8., 12., 16., 20.])"
      ]
     },
     "execution_count": 155,
     "metadata": {},
     "output_type": "execute_result"
    }
   ],
   "source": [
    "# 8. Use NumPy .linspace() to create an array with 6 linearly spaced values between 0 and 20\n",
    "\n",
    "import numpy as np\n",
    "\n",
    "linearArray = np.linspace(0, 20, 6)\n",
    "linearArray"
   ]
  },
  {
   "cell_type": "code",
   "execution_count": 156,
   "metadata": {},
   "outputs": [
    {
     "data": {
      "text/plain": [
       "array([ 0.,  4.,  8., 12., 16., 20.])"
      ]
     },
     "execution_count": 156,
     "metadata": {},
     "output_type": "execute_result"
    }
   ],
   "source": [
    "# 9. Make a Deep Copy of the above array\n",
    "\n",
    "import copy\n",
    "\n",
    "deepCopy = copy.deepcopy(linearArray)\n",
    "deepCopy"
   ]
  },
  {
   "cell_type": "code",
   "execution_count": 157,
   "metadata": {},
   "outputs": [
    {
     "name": "stdout",
     "output_type": "stream",
     "text": [
      "Concatenated New Array\n",
      " [[25 16]\n",
      " [11  2]\n",
      " [13  4]\n",
      " [ 7 81]\n",
      " [ 5  6]\n",
      " [11 12]]\n"
     ]
    }
   ],
   "source": [
    "# 11. Concatenate these 3 arrays into a new array named 'newArray'...\n",
    "\n",
    "import numpy as np\n",
    "\n",
    "arrayB = np.array([[25, 16]])\n",
    "arrayD = np.array([[11, 2], [13, 4]])\n",
    "arrayE = np.array([[7, 81], [5, 6], [11, 12]])\n",
    "\n",
    "newArray = np.concatenate((arrayB, arrayD, arrayE), axis=0)\n",
    "print(\"Concatenated New Array\\n\", newArray)\n"
   ]
  },
  {
   "cell_type": "code",
   "execution_count": 158,
   "metadata": {},
   "outputs": [
    {
     "name": "stdout",
     "output_type": "stream",
     "text": [
      "Sorted Array\n",
      " [[16 25]\n",
      " [ 2 11]\n",
      " [ 4 13]\n",
      " [ 7 81]\n",
      " [ 5  6]\n",
      " [11 12]]\n"
     ]
    }
   ],
   "source": [
    "# 12. Sort 'newArray' in order into 'sortedArray'\n",
    "\n",
    "import numpy as np\n",
    "\n",
    "sortedArray = np.sort(newArray)\n",
    "print(\"Sorted Array\\n\", sortedArray)"
   ]
  },
  {
   "cell_type": "code",
   "execution_count": 159,
   "metadata": {},
   "outputs": [
    {
     "name": "stdout",
     "output_type": "stream",
     "text": [
      "Reshaped Array\n",
      " [[[16 25  2]\n",
      "  [11  4 13]]\n",
      "\n",
      " [[ 7 81  5]\n",
      "  [ 6 11 12]]]\n"
     ]
    }
   ],
   "source": [
    "# 13. Reshape the 'sortedArray' array, into a new array called 'reshapedArray', so it has 2 dimensions with a size of 2, 3.\n",
    "\n",
    "import numpy as np\n",
    "\n",
    "reshapedArray = sortedArray.reshape(2, 2, 3)\n",
    "print(\"Reshaped Array\\n\", reshapedArray)"
   ]
  },
  {
   "cell_type": "code",
   "execution_count": 160,
   "metadata": {},
   "outputs": [
    {
     "name": "stdout",
     "output_type": "stream",
     "text": [
      "\n",
      " [16 25  2]\n",
      "\n",
      " [11  4 13]\n",
      "\n",
      " [ 7 81  5]\n",
      "\n",
      " [ 6 11 12]\n"
     ]
    }
   ],
   "source": [
    "# 14. Unpack the array tuples from the above 'reshapedArray' into 4 well named variables. Print the 4 variables.\n",
    "\n",
    "import numpy as np\n",
    "\n",
    "a, b = reshapedArray\n",
    "#print(\"Reshaped Array\", a, b)\n",
    "\n",
    "c, d = a\n",
    "print(\"\\n\", c)\n",
    "print(\"\\n\", d)\n",
    "e, f = b\n",
    "print(\"\\n\", e)\n",
    "print(\"\\n\", f)"
   ]
  },
  {
   "cell_type": "code",
   "execution_count": 161,
   "metadata": {},
   "outputs": [
    {
     "name": "stdout",
     "output_type": "stream",
     "text": [
      "Combo Array:\n",
      " [ 0  1  2  3  4  5  6  7 10 11 12 13 14 15 16 17 20 21 22 23 24 25 26 27]\n"
     ]
    }
   ],
   "source": [
    "# 15. Combine and sort the following arrays into one called 'comboArray' ...\n",
    "\n",
    "import numpy as np\n",
    "\n",
    "one = ([10, 11, 12, 13, 14, 15, 16, 17])\n",
    "two = ([20, 21, 22, 23, 24, 25, 26, 27])\n",
    "three = ([ 0, 1, 2, 3, 4, 5, 6, 7])\n",
    "\n",
    "concArray= np.concatenate((one, two, three))\n",
    "comboArray = np.sort(concArray)\n",
    "\n",
    "print(\"Combo Array:\\n\", comboArray)\n",
    "\n"
   ]
  },
  {
   "cell_type": "code",
   "execution_count": 162,
   "metadata": {},
   "outputs": [
    {
     "name": "stdout",
     "output_type": "stream",
     "text": [
      "2nd element is 1\n",
      "All elements from 3rd to last [ 2  3  4  5  6  7 10 11 12 13 14 15 16 17 20 21 22 23 24 25 26 27]\n",
      "All elements from 4th to 14th [ 3  4  5  6  7 10 11 12 13 14 15]\n",
      "Last 6 elements [22 23 24 25 26 27]\n",
      "All elements from 0 to 15 using negative number method [ 0  1  2  3  4  5  6  7 10 11 12 13 14 15]\n",
      "From #20 [20 22 24 26]\n",
      "From the last element moving forward, every 5th element [27 22 15 10  3]\n"
     ]
    }
   ],
   "source": [
    "# 16. Take 'comboArray' and perform the following slicing activities:\n",
    "\n",
    "# print sec1 - the 2nd element\n",
    "print(\"2nd element is\", comboArray[1])\n",
    "\n",
    "# print sec2 - all elements from the 3rd element to the last\n",
    "print(\"All elements from 3rd to last\", comboArray[2:])\n",
    "\n",
    "# print sec3 - all elements from the 4th to the 14th elements\n",
    "print(\"All elements from 4th to 14th\", comboArray[3:14])\n",
    "\n",
    "# print sec4 - the last 6 elements\n",
    "print(\"Last 6 elements\", comboArray[-6:])\n",
    "\n",
    "# print sec5 - all element from #0 up to and including #15, using the negative number method, i.e. taking a section from the end.\n",
    "print(\"All elements from 0 to 15 using negative number method\", comboArray[-28:-10])\n",
    "\n",
    "# print sec6 - from #20 every even element to the end\n",
    "print(\"From #20\", comboArray[16:27:2])\n",
    "\n",
    "# print sec7 - from the last element moving forward, every 5th element.\n",
    "print(\"From the last element moving forward, every 5th element\", comboArray[::-5])\n"
   ]
  },
  {
   "cell_type": "code",
   "execution_count": 163,
   "metadata": {},
   "outputs": [
    {
     "data": {
      "text/html": [
       "<div>\n",
       "<style scoped>\n",
       "    .dataframe tbody tr th:only-of-type {\n",
       "        vertical-align: middle;\n",
       "    }\n",
       "\n",
       "    .dataframe tbody tr th {\n",
       "        vertical-align: top;\n",
       "    }\n",
       "\n",
       "    .dataframe thead th {\n",
       "        text-align: right;\n",
       "    }\n",
       "</style>\n",
       "<table border=\"1\" class=\"dataframe\">\n",
       "  <thead>\n",
       "    <tr style=\"text-align: right;\">\n",
       "      <th></th>\n",
       "      <th>Ingredients</th>\n",
       "      <th>Quantity</th>\n",
       "      <th>Unit</th>\n",
       "    </tr>\n",
       "  </thead>\n",
       "  <tbody>\n",
       "    <tr>\n",
       "      <th></th>\n",
       "      <td>Flour</td>\n",
       "      <td>4</td>\n",
       "      <td>cups</td>\n",
       "    </tr>\n",
       "    <tr>\n",
       "      <th></th>\n",
       "      <td>Milk</td>\n",
       "      <td>1</td>\n",
       "      <td>cup</td>\n",
       "    </tr>\n",
       "    <tr>\n",
       "      <th></th>\n",
       "      <td>Eggs</td>\n",
       "      <td>2</td>\n",
       "      <td>large</td>\n",
       "    </tr>\n",
       "    <tr>\n",
       "      <th></th>\n",
       "      <td>Spam</td>\n",
       "      <td>1</td>\n",
       "      <td>can</td>\n",
       "    </tr>\n",
       "  </tbody>\n",
       "</table>\n",
       "</div>"
      ],
      "text/plain": [
       " Ingredients  Quantity   Unit\n",
       "       Flour         4   cups\n",
       "        Milk         1    cup\n",
       "        Eggs         2  large\n",
       "        Spam         1    can"
      ]
     },
     "execution_count": 163,
     "metadata": {},
     "output_type": "execute_result"
    }
   ],
   "source": [
    "# 20. Using Series, create a DataFrame that looks like this:\n",
    "\n",
    "import pandas as pd\n",
    "import numpy as np\n",
    "\n",
    "# courses = pd.Series([\"Ingredients\", \"Quantity\", \"Unit\"])\n",
    "# fees = pd.Series([22000, 25000, 23000])\n",
    "# discount = pd.Series([1000, 2300, 1000])\n",
    "# # print(courses)\n",
    "# # print(fees)\n",
    "# # print(discount)\n",
    "\n",
    "# # combining multiple series\n",
    "# df = pd.concat([courses, fees, discount], axis=1)\n",
    "# #print(df)\n",
    "\n",
    "# add column names\n",
    "ingredients = pd.Series([\"Flour\", \"Milk\", \"Eggs\", \"Spam\"], name=\"Ingredients\")\n",
    "quantity = pd.Series([4, 1, 2, 1], name=\"Quantity\")\n",
    "unit = pd.Series([\"cups\", \"cup\", \"large\", \"can\"], name=\"Unit\")\n",
    "df = pd.concat([ingredients, quantity, unit], axis=1)\n",
    "index_labels = ['', '', '', '']\n",
    "ingredients.index = index_labels\n",
    "quantity.index = index_labels\n",
    "unit.index = index_labels\n",
    "df = pd.concat([ingredients, quantity, unit], axis=1)\n",
    "df"
   ]
  },
  {
   "cell_type": "code",
   "execution_count": 164,
   "metadata": {},
   "outputs": [
    {
     "data": {
      "text/html": [
       "<div>\n",
       "<style scoped>\n",
       "    .dataframe tbody tr th:only-of-type {\n",
       "        vertical-align: middle;\n",
       "    }\n",
       "\n",
       "    .dataframe tbody tr th {\n",
       "        vertical-align: top;\n",
       "    }\n",
       "\n",
       "    .dataframe thead th {\n",
       "        text-align: right;\n",
       "    }\n",
       "</style>\n",
       "<table border=\"1\" class=\"dataframe\">\n",
       "  <thead>\n",
       "    <tr style=\"text-align: right;\">\n",
       "      <th></th>\n",
       "      <th>Name</th>\n",
       "      <th>Height</th>\n",
       "      <th>Qualification</th>\n",
       "      <th>address</th>\n",
       "      <th>Age</th>\n",
       "      <th>Pets</th>\n",
       "      <th>sport</th>\n",
       "    </tr>\n",
       "  </thead>\n",
       "  <tbody>\n",
       "    <tr>\n",
       "      <th>0</th>\n",
       "      <td>Jai</td>\n",
       "      <td>5.1</td>\n",
       "      <td>Msc</td>\n",
       "      <td>Delhi</td>\n",
       "      <td>21</td>\n",
       "      <td>Dog</td>\n",
       "      <td>Darts</td>\n",
       "    </tr>\n",
       "    <tr>\n",
       "      <th>1</th>\n",
       "      <td>janusha</td>\n",
       "      <td>6.2</td>\n",
       "      <td>MA</td>\n",
       "      <td>Doha</td>\n",
       "      <td>23</td>\n",
       "      <td>Bunny</td>\n",
       "      <td>Basketball</td>\n",
       "    </tr>\n",
       "    <tr>\n",
       "      <th>2</th>\n",
       "      <td>Gaurav</td>\n",
       "      <td>5.1</td>\n",
       "      <td>Msc</td>\n",
       "      <td>Chennai</td>\n",
       "      <td>24</td>\n",
       "      <td>Chinchilla</td>\n",
       "      <td>PaddleBoarding</td>\n",
       "    </tr>\n",
       "    <tr>\n",
       "      <th>3</th>\n",
       "      <td>Anuj</td>\n",
       "      <td>5.2</td>\n",
       "      <td>Msc</td>\n",
       "      <td>Dakhar</td>\n",
       "      <td>21</td>\n",
       "      <td>Parrot</td>\n",
       "      <td>Cricket</td>\n",
       "    </tr>\n",
       "  </tbody>\n",
       "</table>\n",
       "</div>"
      ],
      "text/plain": [
       "      Name  Height Qualification  address  Age        Pets           sport\n",
       "0      Jai     5.1           Msc    Delhi   21         Dog           Darts\n",
       "1  janusha     6.2            MA     Doha   23       Bunny      Basketball\n",
       "2   Gaurav     5.1           Msc  Chennai   24  Chinchilla  PaddleBoarding\n",
       "3     Anuj     5.2           Msc   Dakhar   21      Parrot         Cricket"
      ]
     },
     "execution_count": 164,
     "metadata": {},
     "output_type": "execute_result"
    }
   ],
   "source": [
    "#21 Take this data and create a DataFrame named studentData\n",
    "\n",
    "import pandas as pd\n",
    "\n",
    "stdData = {'Name': ['Jai', 'janusha', 'Gaurav', 'Anuj'],\n",
    "        'Height': [5.1, 6.2, 5.1, 5.2],\n",
    "        'Qualification': ['Msc', 'MA', 'Msc', 'Msc'],\n",
    "        'address': ['Delhi', 'Doha', 'Chennai', 'Dakhar'],\n",
    "        'Age': [21, 23, 24, 21],\n",
    "        'Pets': ['Dog', 'Bunny', 'Chinchilla', 'Parrot'],\n",
    "        'sport': ['Darts', 'Basketball', 'PaddleBoarding', 'Cricket']\n",
    "}\n",
    "\n",
    "studentData = pd.DataFrame(stdData)\n",
    "studentData\n"
   ]
  },
  {
   "cell_type": "code",
   "execution_count": 165,
   "metadata": {},
   "outputs": [
    {
     "data": {
      "text/html": [
       "<div>\n",
       "<style scoped>\n",
       "    .dataframe tbody tr th:only-of-type {\n",
       "        vertical-align: middle;\n",
       "    }\n",
       "\n",
       "    .dataframe tbody tr th {\n",
       "        vertical-align: top;\n",
       "    }\n",
       "\n",
       "    .dataframe thead th {\n",
       "        text-align: right;\n",
       "    }\n",
       "</style>\n",
       "<table border=\"1\" class=\"dataframe\">\n",
       "  <thead>\n",
       "    <tr style=\"text-align: right;\">\n",
       "      <th></th>\n",
       "      <th>Name</th>\n",
       "      <th>Height</th>\n",
       "      <th>Qualification</th>\n",
       "      <th>address</th>\n",
       "      <th>Age</th>\n",
       "      <th>Pets</th>\n",
       "      <th>sport</th>\n",
       "      <th>Deserts</th>\n",
       "    </tr>\n",
       "  </thead>\n",
       "  <tbody>\n",
       "    <tr>\n",
       "      <th>0</th>\n",
       "      <td>Jai</td>\n",
       "      <td>5.1</td>\n",
       "      <td>Msc</td>\n",
       "      <td>Delhi</td>\n",
       "      <td>21</td>\n",
       "      <td>Dog</td>\n",
       "      <td>Darts</td>\n",
       "      <td>ice cream</td>\n",
       "    </tr>\n",
       "    <tr>\n",
       "      <th>1</th>\n",
       "      <td>janusha</td>\n",
       "      <td>6.2</td>\n",
       "      <td>MA</td>\n",
       "      <td>Doha</td>\n",
       "      <td>23</td>\n",
       "      <td>Bunny</td>\n",
       "      <td>Basketball</td>\n",
       "      <td>Cashew Fudge</td>\n",
       "    </tr>\n",
       "    <tr>\n",
       "      <th>2</th>\n",
       "      <td>Gaurav</td>\n",
       "      <td>5.1</td>\n",
       "      <td>Msc</td>\n",
       "      <td>Chennai</td>\n",
       "      <td>24</td>\n",
       "      <td>Chinchilla</td>\n",
       "      <td>PaddleBoarding</td>\n",
       "      <td>waffels</td>\n",
       "    </tr>\n",
       "    <tr>\n",
       "      <th>3</th>\n",
       "      <td>Anuj</td>\n",
       "      <td>5.2</td>\n",
       "      <td>Msc</td>\n",
       "      <td>Dakhar</td>\n",
       "      <td>21</td>\n",
       "      <td>Parrot</td>\n",
       "      <td>Cricket</td>\n",
       "      <td>Carrot Halwa</td>\n",
       "    </tr>\n",
       "  </tbody>\n",
       "</table>\n",
       "</div>"
      ],
      "text/plain": [
       "      Name  Height Qualification  address  Age        Pets           sport   \n",
       "0      Jai     5.1           Msc    Delhi   21         Dog           Darts  \\\n",
       "1  janusha     6.2            MA     Doha   23       Bunny      Basketball   \n",
       "2   Gaurav     5.1           Msc  Chennai   24  Chinchilla  PaddleBoarding   \n",
       "3     Anuj     5.2           Msc   Dakhar   21      Parrot         Cricket   \n",
       "\n",
       "        Deserts  \n",
       "0     ice cream  \n",
       "1  Cashew Fudge  \n",
       "2       waffels  \n",
       "3  Carrot Halwa  "
      ]
     },
     "execution_count": 165,
     "metadata": {},
     "output_type": "execute_result"
    }
   ],
   "source": [
    "# 22 Add a new column to the DataFrame with the following deserts: [\"ice cream\", \"Cashew Fudge\", \"waffels\", \"Carrot Halwa\"]\n",
    "\n",
    "deserts = [\"ice cream\", \"Cashew Fudge\", \"waffels\", \"Carrot Halwa\"]\n",
    "studentData[\"Deserts\"] = deserts\n",
    "studentData\n"
   ]
  },
  {
   "cell_type": "code",
   "execution_count": 166,
   "metadata": {},
   "outputs": [
    {
     "data": {
      "text/html": [
       "<div>\n",
       "<style scoped>\n",
       "    .dataframe tbody tr th:only-of-type {\n",
       "        vertical-align: middle;\n",
       "    }\n",
       "\n",
       "    .dataframe tbody tr th {\n",
       "        vertical-align: top;\n",
       "    }\n",
       "\n",
       "    .dataframe thead th {\n",
       "        text-align: right;\n",
       "    }\n",
       "</style>\n",
       "<table border=\"1\" class=\"dataframe\">\n",
       "  <thead>\n",
       "    <tr style=\"text-align: right;\">\n",
       "      <th></th>\n",
       "      <th>Name</th>\n",
       "      <th>Height</th>\n",
       "      <th>Qualification</th>\n",
       "      <th>address</th>\n",
       "      <th>Age</th>\n",
       "      <th>Pets</th>\n",
       "      <th>sport</th>\n",
       "      <th>Deserts</th>\n",
       "    </tr>\n",
       "  </thead>\n",
       "  <tbody>\n",
       "    <tr>\n",
       "      <th>3</th>\n",
       "      <td>Anuj</td>\n",
       "      <td>5.2</td>\n",
       "      <td>Msc</td>\n",
       "      <td>Dakhar</td>\n",
       "      <td>21</td>\n",
       "      <td>Parrot</td>\n",
       "      <td>Cricket</td>\n",
       "      <td>Carrot Halwa</td>\n",
       "    </tr>\n",
       "    <tr>\n",
       "      <th>2</th>\n",
       "      <td>Gaurav</td>\n",
       "      <td>5.1</td>\n",
       "      <td>Msc</td>\n",
       "      <td>Chennai</td>\n",
       "      <td>24</td>\n",
       "      <td>Chinchilla</td>\n",
       "      <td>PaddleBoarding</td>\n",
       "      <td>waffels</td>\n",
       "    </tr>\n",
       "    <tr>\n",
       "      <th>0</th>\n",
       "      <td>Jai</td>\n",
       "      <td>5.1</td>\n",
       "      <td>Msc</td>\n",
       "      <td>Delhi</td>\n",
       "      <td>21</td>\n",
       "      <td>Dog</td>\n",
       "      <td>Darts</td>\n",
       "      <td>ice cream</td>\n",
       "    </tr>\n",
       "    <tr>\n",
       "      <th>1</th>\n",
       "      <td>janusha</td>\n",
       "      <td>6.2</td>\n",
       "      <td>MA</td>\n",
       "      <td>Doha</td>\n",
       "      <td>23</td>\n",
       "      <td>Bunny</td>\n",
       "      <td>Basketball</td>\n",
       "      <td>Cashew Fudge</td>\n",
       "    </tr>\n",
       "  </tbody>\n",
       "</table>\n",
       "</div>"
      ],
      "text/plain": [
       "      Name  Height Qualification  address  Age        Pets           sport   \n",
       "3     Anuj     5.2           Msc   Dakhar   21      Parrot         Cricket  \\\n",
       "2   Gaurav     5.1           Msc  Chennai   24  Chinchilla  PaddleBoarding   \n",
       "0      Jai     5.1           Msc    Delhi   21         Dog           Darts   \n",
       "1  janusha     6.2            MA     Doha   23       Bunny      Basketball   \n",
       "\n",
       "        Deserts  \n",
       "3  Carrot Halwa  \n",
       "2       waffels  \n",
       "0     ice cream  \n",
       "1  Cashew Fudge  "
      ]
     },
     "execution_count": 166,
     "metadata": {},
     "output_type": "execute_result"
    }
   ],
   "source": [
    "# 23 Sort the 'studentData' DataFrame in Ascending order -- Sorting by column 'Name' and then \"address\"\n",
    "\n",
    "studentData.sort_values(by=[\"Name\", \"address\"], inplace=True)\n",
    "#studentData.sort_values(by=[\"address\"], inplace=True)\n",
    "studentData"
   ]
  },
  {
   "cell_type": "code",
   "execution_count": 167,
   "metadata": {},
   "outputs": [],
   "source": [
    "# 24 Save this DataFrame here below to disc as a .CSV file with the name cows_and_goats.csv:\n",
    "\n",
    "df = pd.DataFrame({'Cows': [12, 20], 'Goats': [22, 19]}, index=['Year 1', 'Year 2'])\n",
    "df.to_csv(\"cows_and_goats.csv\")"
   ]
  },
  {
   "cell_type": "code",
   "execution_count": 168,
   "metadata": {},
   "outputs": [],
   "source": [
    "# 25 (A) Using Pandas, make your own .CSV file with data on vegetables and save it. (B) Using Pandas, make a change to your CSV file, and save a copy with a different name.\n",
    "\n",
    "import pandas as pd\n",
    "\n",
    "vegetables = pd.DataFrame([[\"Tomato\", \"Red\"], [\"Okra\", \"Green\"]], columns=[\"Vegetables\", \"Color\"])\n",
    "vegetables.to_csv(\"vegetables.csv\", index=False)\n",
    "df = pd.read_csv(\"vegetables.csv\")\n",
    "#print(df)\n",
    "\n",
    "df1 = df.replace(to_replace=\"Tomato\", value=\"Pepper\")\n",
    "#print(df1)\n",
    "df1.to_csv(\"Updated vegetables.csv\", index=False)"
   ]
  }
 ],
 "metadata": {
  "kernelspec": {
   "display_name": "Python 3",
   "language": "python",
   "name": "python3"
  },
  "language_info": {
   "codemirror_mode": {
    "name": "ipython",
    "version": 3
   },
   "file_extension": ".py",
   "mimetype": "text/x-python",
   "name": "python",
   "nbconvert_exporter": "python",
   "pygments_lexer": "ipython3",
   "version": "3.11.3"
  },
  "orig_nbformat": 4
 },
 "nbformat": 4,
 "nbformat_minor": 2
}
