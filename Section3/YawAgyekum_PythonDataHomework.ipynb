{
 "cells": [
  {
   "attachments": {},
   "cell_type": "markdown",
   "metadata": {},
   "source": [
    "# 1. What is an algorithm?\n",
    "### An algorithm is a series of steps to solve a problem at hand\n",
    "\n",
    "\n",
    "# 2. Variable names may not start with certain characters - name two.\n",
    "### Numbers eg. 1 & 2\n",
    "\n",
    "# 3. What is a Semantic error?\n",
    "### code is grammatically correct but doesn't make any sense; it does not produce the expected results\n",
    "\n",
    "# 4. What is the #1 rule of coding / debugging?\n",
    "### Complexity is the enemy of efficiency!\n",
    "\n",
    "# 5. List 5 Python reserved words.\n",
    "### finally, yield, break, continue, nonlocal"
   ]
  },
  {
   "cell_type": "code",
   "execution_count": 2,
   "metadata": {},
   "outputs": [
    {
     "data": {
      "text/plain": [
       "'\\nYaw Agyekum\\nJambalaya\\nSenior Data Analyst\\n'"
      ]
     },
     "execution_count": 2,
     "metadata": {},
     "output_type": "execute_result"
    }
   ],
   "source": [
    "# 6. Write a multi-line comment with your name, favorite food, and dream job on 3 different lines\n",
    "\n",
    "'''\n",
    "Yaw Agyekum\n",
    "Jambalaya\n",
    "Senior Data Analyst\n",
    "'''"
   ]
  },
  {
   "cell_type": "code",
   "execution_count": 1,
   "metadata": {},
   "outputs": [
    {
     "name": "stdout",
     "output_type": "stream",
     "text": [
      "The length of my pet name is 5\n",
      "The 4th character in my pet name is e\n"
     ]
    }
   ],
   "source": [
    "   # 7. Assign 5 different data types to 5 different variables. At least one datatype must be a string\n",
    "pet_name = \"Romeo\"\n",
    "age = 5\n",
    "favorite_animals = [\"dog\", \"cat\", \"goat\", \"horse\"]\n",
    "pet = {\"name\": \"Romeo\", \"age\": 5, \"color\": \"brown\"}\n",
    "pet_weight = 40.2\n",
    "\n",
    "# Print the length of your string\n",
    "print(\"The length of my pet name is\", len(pet_name))\n",
    "\n",
    "# Print the index of the 4th character in your string\n",
    "print(\"The 4th character in my pet name is\", pet_name[3])"
   ]
  },
  {
   "cell_type": "code",
   "execution_count": 41,
   "metadata": {},
   "outputs": [
    {
     "name": "stdout",
     "output_type": "stream",
     "text": [
      "ing Data Analytics \n",
      "Learning Data Analytics and Python is great!\n",
      "Savvy has Python\n"
     ]
    }
   ],
   "source": [
    "# 8. Create a new variable called savvy, and assign it the string with this phrase \"Learning Data Analytics and Python is Awesome!\"\n",
    "savvy = \"Learning Data Analytics and Python is Awesome!\"\n",
    "\n",
    "# Return a range of characters that slices the above string from the beginning of \"ing\" up to before \"and\"\n",
    "print(savvy[5:24])\n",
    "\n",
    "# Replace \"Awesome\" with \"great\" in the string\n",
    "print(savvy.replace(\"Awesome\",\"great\"))\n",
    "\n",
    "# Test and print the savvy string to see it contains \"Python\"\n",
    "if \"Python\" in savvy:\n",
    "    print(\"Savvy has Python\")\n"
   ]
  },
  {
   "cell_type": "code",
   "execution_count": 7,
   "metadata": {},
   "outputs": [
    {
     "name": "stdout",
     "output_type": "stream",
     "text": [
      "Hi, my name is  Romeo, I am  10 ft tall and  5 years old\n",
      "5.0\n"
     ]
    }
   ],
   "source": [
    "# 9. Create and assign 3 more variables called name, age and length using the multi-variable naming method\n",
    "name, age, length = \"Romeo\", 5, 10\n",
    "\n",
    "# Format a new string called 'miniBio' using variables in curly brackets to complete this phrase... \"Hi my name is (name), I am (tall) and (so) old today.\"\n",
    "miniBio = \"Hi, my name is  {}, I am  {} ft tall and  {} years old\"\n",
    "\n",
    "# Print 'miniBio'\n",
    "print(miniBio.format(name, length, age))\n",
    "\n",
    "# Cast and print the age variable to a float\n",
    "print(float(age))"
   ]
  },
  {
   "cell_type": "code",
   "execution_count": 8,
   "metadata": {},
   "outputs": [
    {
     "name": "stdout",
     "output_type": "stream",
     "text": [
      "['Romeo', 5, 20.0, 'brown', 'cat', 'white']\n",
      "Size of the list 6\n",
      "[[5, 20.0, 'brown']]\n",
      "Sim List is ['Arizona', 'Maryland', 'Virginia', 'Georgia', 'California']\n",
      "Sorted list  ['Arizona', 'California', 'Georgia', 'Maryland', 'Virginia']\n",
      "4th list [[5, 20.0, 'brown'], 'Arizona', 'California', 'Georgia', 'Maryland', 'Virginia']\n"
     ]
    }
   ],
   "source": [
    "# 10. Create a list of at least 5 elements of mixed data types\n",
    "firstList = [\"Romeo\", 5, 20.0, \"brown\", \"dog\"]\n",
    "# Replace a part of it with something else\n",
    "firstList[4] = \"cat\"\n",
    "firstList.append(\"white\")\n",
    "print(firstList)\n",
    "\n",
    "# Find and print the length of the list\n",
    "print(\"Size of the list\", len(firstList))\n",
    "\n",
    "# Slice a sub-section of the 1st list, and save it to a different 2nd list\n",
    "secondList = [firstList[1:4]]\n",
    "\n",
    "# Print the 2nd list\n",
    "print(secondList)\n",
    "\n",
    "# Extend your original list with the 2nd list sliced above\n",
    "firstList.extend(secondList)\n",
    "\n",
    "# Create a new list called \"simList\" containing at least 5 elements of the same data type, either string, integer, float, or Boolean\n",
    "simList = [\"Arizona\", \"Maryland\", \"Virginia\", \"Georgia\", \"California\"]\n",
    "print(\"Sim List is\", simList)\n",
    "\n",
    "# Sort \"simList\", and print the list\n",
    "simList.sort()\n",
    "print(\"Sorted list \", simList)\n",
    "\n",
    "# Copy the \"simList\" list to another 3rd list\n",
    "thirdList = simList.copy()\n",
    "\n",
    "# Add the 2nd and 3rd lists together into a 4th list\n",
    "fourthList = secondList + thirdList\n",
    "print(\"4th list\", fourthList)\n",
    "\n",
    "\n"
   ]
  },
  {
   "cell_type": "code",
   "execution_count": 76,
   "metadata": {},
   "outputs": [
    {
     "name": "stdout",
     "output_type": "stream",
     "text": [
      "(23, 43, 26, 56, 35, 23, 43, 26, 56, 35, 23, 43, 26, 56, 35)\n",
      "43\n",
      "Sorted tuple: [23, 23, 23, 26, 26, 26, 35, 35, 35, 43, 43, 43, 56, 56, 56]\n",
      "Third tuple is (23, 43, 26, 56)\n",
      "Eric's age is 23\n",
      "John's age is 43\n",
      "Ben's age is 26\n",
      "Nick's age is 56\n",
      "50\n",
      "(23, 43, 26, 56, 35, 23, 43, 26, 56, 35, 23, 43, 26, 56, 35, 23, 43, 26, 56)\n"
     ]
    }
   ],
   "source": [
    "11. # Create a tuple of about 5 elements\n",
    "firstTuple = (23, 43, 26, 56, 35)\n",
    "\n",
    "# Multiply your tuple by 3 and save it to a new 2nd tuple\n",
    "secondTuple = firstTuple * 3\n",
    "print(secondTuple)\n",
    "\n",
    "# Access and print the 12th element from the 2nd tuple\n",
    "print(secondTuple[11])\n",
    "\n",
    "# Sort the 2nd tuple and print it\n",
    "sortedList = sorted(secondTuple)\n",
    "print(\"Sorted tuple:\", sortedList)\n",
    "\n",
    "# Copy 4 specific elements from your 2nd tuple to a new 3nd tuple\n",
    "thirdTuple = secondTuple[0:4]\n",
    "print(\"Third tuple is\", thirdTuple)\n",
    "\n",
    "\n",
    "# Unpack the 3rd tuple into 4 variables and print these variables\n",
    "(ericAge, JohnAge, BenAge, NickAge) = thirdTuple\n",
    "print(\"Eric's age is\", ericAge)\n",
    "print(\"John's age is\", JohnAge)\n",
    "print(\"Ben's age is\", BenAge)\n",
    "print(\"Nick's age is\", NickAge)\n",
    "\n",
    "# Create a 4th tuple with single item 50 and print this tuple\n",
    "FourthTuple = (50)\n",
    "print(FourthTuple)\n",
    "\n",
    "# Add the 2nd and 3rd tuple together into a 5th tuple and print the tuple\n",
    "fifthTuple = secondTuple + thirdTuple\n",
    "print(fifthTuple)"
   ]
  },
  {
   "cell_type": "code",
   "execution_count": 97,
   "metadata": {},
   "outputs": [
    {
     "name": "stdout",
     "output_type": "stream",
     "text": [
      "{'orange', 'Nick', 'Eric', 'pawpaw', 'banana', 'Ben'}\n",
      "{'backpack', 'laptop'}\n",
      "Cleared list: set()\n",
      "{'Eric', 'Nick', 'backpack', 'pawpaw', 'banana', 'Toyota', 'laptop', 'Ben'}\n"
     ]
    }
   ],
   "source": [
    "12 # Create a set of about 3 elements\n",
    "firstSet = {\"Eric\", \"Nick\", \"Ben\"}\n",
    "\n",
    "# Add a list of fruits to the above set and print the result\n",
    "firstSet.add(\"orange\")\n",
    "firstSet.add(\"pawpaw\")\n",
    "firstSet.add(\"banana\")\n",
    "print(firstSet)\n",
    "\n",
    "# Add a car element to your set\n",
    "firstSet.add(\"Toyota\")\n",
    "\n",
    "# Create a 2nd set with a few odd items\n",
    "secondSet = {\"laptop\", \"backpack\", \"pencil\"}\n",
    "\n",
    "# Save the union of 1st set and 2nd set to a 3rd set\n",
    "thirdSet = firstSet.union(secondSet)\n",
    "\n",
    "# Pop an element from the 2nd set, and print the remainder of the set\n",
    "secondSet.pop()\n",
    "print(secondSet)\n",
    "\n",
    "# Clear the 1st set and print the result\n",
    "firstSet.clear()\n",
    "print(\"Cleared list:\", firstSet)\n",
    "\n",
    "# Discard an element, and remove another element from the 3rd set\n",
    "thirdSet.discard(\"orange\")\n",
    "thirdSet.remove(\"pencil\")\n",
    "\n",
    "\n",
    "# Print the remainder of the 3rd set\n",
    "print(thirdSet)"
   ]
  },
  {
   "cell_type": "code",
   "execution_count": 117,
   "metadata": {},
   "outputs": [
    {
     "name": "stdout",
     "output_type": "stream",
     "text": [
      "Romeo\n",
      "First Dictionary Keys dict_keys(['name', 'age', 'color', 'weight', 'birthyear', 'favoriteColor', 'favoriteNumbers'])\n",
      "First Dictionary Values dict_values(['Yaw', 5, 'brown', 30.4, 2018, 'yellow', (3, 7, 9)])\n",
      "Popped item Dictionary {'name': 'Yaw', 'age': 5, 'color': 'brown', 'weight': 30.4, 'birthyear': 2018, 'favoriteColor': 'yellow'}\n",
      "Cleared Dictionary {}\n"
     ]
    }
   ],
   "source": [
    "# Create a dictionary with at least 5 values of different data types\n",
    "firstDict = {\n",
    "    \"name\" : \"Romeo\",\n",
    "    \"age\" : 5,\n",
    "    \"color\" : \"brown\",\n",
    "    \"weight\" : 30.4,\n",
    "    \"birthyear\": 2018\n",
    "\n",
    "}\n",
    "# Print out 1 value\n",
    "print(name)\n",
    "\n",
    "# Replace any one value in your dictionary with your name\n",
    "updateDict = {\"name\" : \"Yaw\"}\n",
    "firstDict.update(updateDict)\n",
    "\n",
    "# Add your favorite color to the dictionary\n",
    "firstDict[\"favoriteColor\"] = \"yellow\"\n",
    "\n",
    "# Add a list, tuple or set to your dictionary\n",
    "firstDict[\"favoriteNumbers\"] = 3, 7, 9\n",
    "\n",
    "# Print a list of the dictionary keys\n",
    "print(\"First Dictionary Keys\", firstDict.keys())\n",
    "\n",
    "# Print a list of the dictionary values\n",
    "print(\"First Dictionary Values\", firstDict.values())\n",
    "\n",
    "# Copy your 1st dictionary into a 2nd dictionary\n",
    "secondDict = firstDict.copy()\n",
    "\n",
    "# Pop an item from the 2nd dictionary, and print the dictionary\n",
    "secondDict.popitem()\n",
    "print(\"Popped item Dictionary\", secondDict)\n",
    "\n",
    "# Remove all the elements from the 2nd dictionary and print the result\n",
    "secondDict.clear()\n",
    "print(\"Cleared Dictionary\", secondDict)\n"
   ]
  }
 ],
 "metadata": {
  "kernelspec": {
   "display_name": "Python 3",
   "language": "python",
   "name": "python3"
  },
  "language_info": {
   "codemirror_mode": {
    "name": "ipython",
    "version": 3
   },
   "file_extension": ".py",
   "mimetype": "text/x-python",
   "name": "python",
   "nbconvert_exporter": "python",
   "pygments_lexer": "ipython3",
   "version": "3.11.3"
  },
  "orig_nbformat": 4
 },
 "nbformat": 4,
 "nbformat_minor": 2
}
