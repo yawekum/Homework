{
 "cells": [
  {
   "cell_type": "code",
   "execution_count": 114,
   "metadata": {},
   "outputs": [
    {
     "name": "stdout",
     "output_type": "stream",
     "text": [
      "City: Mesa\n",
      "Current Temp: 80 F\n",
      "Description: clear sky\n"
     ]
    }
   ],
   "source": [
    "import requests\n",
    "from dotenv import load_dotenv\n",
    "import pandas as pd\n",
    "import json\n",
    "import os\n",
    "\n",
    "load_dotenv()\n",
    "\n",
    "api_key = os.getenv('API_KEY')\n",
    "location = input(\"Enter location: \")\n",
    "\n",
    "#print (api_key)\n",
    "\n",
    "try:\n",
    "\n",
    "    city_weather = requests.get ('http://api.openweathermap.org/data/2.5/weather?q=' + location + '&appid=' + api_key)\n",
    "    \n",
    "    city = json.loads(city_weather.text)\n",
    "   \n",
    "    if city_weather.status_code == 200: \n",
    "    # Pull weather info for city\n",
    "        place = city['name']\n",
    "        desc = city['weather'][0]['description']\n",
    "\n",
    "    # Convert kelvin unit to Fahrenheit unit\n",
    "        tempKel = city['main']['temp']\n",
    "        tempCel = int(tempKel - 273.15)\n",
    "        tempFah = int(tempCel * 1.8) + 32\n",
    "    \n",
    "\n",
    "        print(\"City: \" + place)\n",
    "        print(\"Current Temp: \" + str(round(tempFah, 0)) + \" F\")\n",
    "        print(\"Description: \" + desc)\n",
    "    \n",
    "    else:\n",
    "        print(f\"Request failed with status code {city_weather.status_code}\")\n",
    "   \n",
    "    \n",
    "\n",
    "except requests.exceptions.RequestException as e:\n",
    "    print(e)"
   ]
  }
 ],
 "metadata": {
  "kernelspec": {
   "display_name": "Python 3",
   "language": "python",
   "name": "python3"
  },
  "language_info": {
   "codemirror_mode": {
    "name": "ipython",
    "version": 3
   },
   "file_extension": ".py",
   "mimetype": "text/x-python",
   "name": "python",
   "nbconvert_exporter": "python",
   "pygments_lexer": "ipython3",
   "version": "3.11.3"
  },
  "orig_nbformat": 4
 },
 "nbformat": 4,
 "nbformat_minor": 2
}
