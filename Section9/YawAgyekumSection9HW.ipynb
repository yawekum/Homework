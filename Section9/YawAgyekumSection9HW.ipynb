{
 "cells": [
  {
   "cell_type": "code",
   "execution_count": 31,
   "metadata": {},
   "outputs": [
    {
     "name": "stdout",
     "output_type": "stream",
     "text": [
      "{\"coord\":{\"lon\":-112.074,\"lat\":33.4484},\"weather\":[{\"id\":800,\"main\":\"Clear\",\"description\":\"clear sky\",\"icon\":\"01n\"}],\"base\":\"stations\",\"main\":{\"temp\":299.79,\"feels_like\":299.79,\"temp_min\":298.02,\"temp_max\":301.12,\"pressure\":1008,\"humidity\":32},\"visibility\":10000,\"wind\":{\"speed\":1.79,\"deg\":200,\"gust\":4.02},\"clouds\":{\"all\":0},\"dt\":1686547248,\"sys\":{\"type\":2,\"id\":2008537,\"country\":\"US\",\"sunrise\":1686485885,\"sunset\":1686537478},\"timezone\":-25200,\"id\":5308655,\"name\":\"Phoenix\",\"cod\":200}\n"
     ]
    }
   ],
   "source": [
    "import requests\n",
    "from dotenv import load_dotenv\n",
    "import pandas as pd\n",
    "import json\n",
    "import os\n",
    "\n",
    "load_dotenv()\n",
    "\n",
    "api_key = os.getenv('API_KEY')\n",
    "location = input(\"Enter location: \")\n",
    "\n",
    "#print (api_key)\n",
    "\n",
    "try:\n",
    "\n",
    "    city_weather = requests.get ('http://api.openweathermap.org/data/2.5/weather?q=' + location + '&appid=' + api_key)\n",
    "    print (city_weather.text)\n",
    "    \n",
    "  \n",
    "\n",
    "except requests.exceptions.RequestException as error:\n",
    "    print(error)"
   ]
  }
 ],
 "metadata": {
  "kernelspec": {
   "display_name": "Python 3",
   "language": "python",
   "name": "python3"
  },
  "language_info": {
   "codemirror_mode": {
    "name": "ipython",
    "version": 3
   },
   "file_extension": ".py",
   "mimetype": "text/x-python",
   "name": "python",
   "nbconvert_exporter": "python",
   "pygments_lexer": "ipython3",
   "version": "3.11.3"
  },
  "orig_nbformat": 4
 },
 "nbformat": 4,
 "nbformat_minor": 2
}
