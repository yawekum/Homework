{
 "cells": [
  {
   "cell_type": "code",
   "execution_count": null,
   "metadata": {},
   "outputs": [],
   "source": [
    "# 1. Create an if statement: if 'age' is greater than or equal to 25, print \"Renting a car is more affordable\", however if 'age' is less than 25, print \"Renting a car is very expensive.\"\n",
    "\n",
    "# Asking driver's name and age\n",
    "driverName = input(\"What is your name?\")\n",
    "print(\"Welcome to Hertz,\", driverName)\n",
    "rentAge = int(input(\"How old are you?\"))\n",
    "\n",
    "# if statement to check if driver is 25 or older\n",
    "if rentAge >= 25:\n",
    "    print(\"Renting a car is more affordable!\")\n",
    "else:\n",
    "    print(\"Renting a car is very expensive!\")\n"
   ]
  },
  {
   "cell_type": "code",
   "execution_count": null,
   "metadata": {},
   "outputs": [],
   "source": [
    "# 2. Create and chain an if-else statement: if 'age' is greater than or equal to 25, print \"Renting a car is more affordable.\" If 'age' is less than 25 but greater than or equal to 18, print \"Renting a car is very expensive.\" Finally, if age is less than 18, print \"You cannot legally rent a car.\"\n",
    "\n",
    "# Asking driver's name and age\n",
    "driverName = input(\"What is your name?\")\n",
    "print(\"Welcome to Hertz,\", driverName)\n",
    "rentAge = int(input(\"How old are you?\"))\n",
    "\n",
    "# if statement to check if driver is 25 or older, between 18 & 25 or less than 18.\n",
    "if rentAge >= 25:\n",
    "    print(\"Renting a car is more affordable!\")\n",
    "elif rentAge < 25 and rentAge >= 18:\n",
    "    print(\"Renting a car is very expensive!\")\n",
    "else:\n",
    "    print(\"You cannot legally rent a car!\")"
   ]
  },
  {
   "cell_type": "code",
   "execution_count": null,
   "metadata": {},
   "outputs": [],
   "source": [
    "# 3. Loop over the following string to (1) count all the characters in the string and (2) print out all the vowels -- \"The quick brown fox jumps over the lazy dog\"\n",
    "\n",
    "# Create string variable loopString and count all the characters\n",
    "loopStr = \"The quick brown fox jumps over the lazy dog\"\n",
    "countStr = 0\n",
    "for char in loopStr:\n",
    "    countStr += 1\n",
    "print (\"The count of characters is\", countStr)\n",
    "\n",
    "# Print out all the vowels \n",
    "vowels = \"euioouoeao\"\n",
    "for vowelsChar in vowels:\n",
    "    print(vowelsChar)"
   ]
  },
  {
   "cell_type": "code",
   "execution_count": null,
   "metadata": {},
   "outputs": [],
   "source": [
    "# 4. Write a nested loop that prints out every piece of clothing from the couture list, in every fashionable color from the panettone set: couture = [\"trousers\", \"blouse\", \"bandana\", \"cumber band\", \"blazer\", \"vest\", \"french beret\", \"scarf\", \"stole\"] and panettone = {\"cerise\", \"fuchsia\", \"aqua\", \"maple\", \"auburn\", \"burnt sienna\", \"gunmetal blue\", \"Dark Sapphire\"}\n",
    "\n",
    "# Couture List\n",
    "couture = [\"trousers\", \"blouse\", \"bandana\", \"cumber band\", \"blazer\", \"vest\", \"french beret\", \"scarf\", \"stole\"]\n",
    "panettone = {\"cerise\", \"fuchsia\", \"aqua\", \"maple\", \"auburn\", \"burnt sienna\", \"gunmetal blue\", \"Dark Sapphire\"}\n",
    "\n",
    "# Prints out every piece of clothing from Couture list with every color\n",
    "for clothes in couture:\n",
    "    for colors in panettone:\n",
    "        print(colors, clothes)"
   ]
  },
  {
   "cell_type": "code",
   "execution_count": null,
   "metadata": {},
   "outputs": [],
   "source": [
    "# 5. Use range as a loop to calculate the sum of all the numbers from 1 to 100\n",
    "\n",
    "sum = 0\n",
    "for numbers in range(1, 101):\n",
    "    sum += numbers\n",
    "print(sum)"
   ]
  },
  {
   "cell_type": "code",
   "execution_count": null,
   "metadata": {},
   "outputs": [],
   "source": [
    "# 6. Print the second item in this fruits list. [\"apple\", \"banana\", \"cherry\"]\n",
    "\n",
    "fruitList = [\"apple\", \"banana\", \"cherry\"]\n",
    "print(fruitList[1])"
   ]
  },
  {
   "cell_type": "code",
   "execution_count": null,
   "metadata": {},
   "outputs": [],
   "source": [
    "# 7. Change the value from \"apple\" to \"kiwi\", in the fruits list. [\"apple\", \"banana\", \"cherry\"]\n",
    "\n",
    "fruitList = [\"apple\", \"banana\", \"cherry\"]\n",
    "fruitList[0] = \"kiwi\"\n",
    "print(fruitList)"
   ]
  },
  {
   "cell_type": "code",
   "execution_count": null,
   "metadata": {},
   "outputs": [],
   "source": [
    "# 8. Use the append method to add \"orange\" to the fruits list. [\"apple\", \"banana\", \"cherry\"]\n",
    "\n",
    "fruitList = [\"apple\", \"banana\", \"cherry\"]\n",
    "fruitList.append(\"orange\")\n",
    "print(fruitList)"
   ]
  },
  {
   "cell_type": "code",
   "execution_count": null,
   "metadata": {},
   "outputs": [],
   "source": [
    "# 9. Use the insert method to add \"lemon\" as the second item in the fruits list. [\"apple\", \"banana\", \"cherry\"]\n",
    "\n",
    "fruitList = [\"apple\", \"banana\", \"cherry\"]\n",
    "fruitList.insert(1, \"lemon\")\n",
    "print(fruitList)"
   ]
  },
  {
   "cell_type": "code",
   "execution_count": null,
   "metadata": {},
   "outputs": [],
   "source": [
    "# 10. Use the remove method to remove \"banana\" from the fruits list. [\"apple\", \"banana\", \"cherry\"]\n",
    "\n",
    "fruitList = [\"apple\", \"banana\", \"cherry\"]\n",
    "fruitList.remove(\"banana\")\n",
    "print(fruitList)"
   ]
  },
  {
   "cell_type": "code",
   "execution_count": null,
   "metadata": {},
   "outputs": [],
   "source": [
    "# 11. #11 Use negative indexing to print the 3rd and 2nd to last items in the list. [\"apple\", \"banana\", \"cherry\", \"orange\", \"kiwi\", \"melon\", \"mango\"]\n",
    "\n",
    "fruitList = [\"apple\", \"banana\", \"cherry\", \"orange\", \"kiwi\", \"melon\", \"mango\"]\n",
    "thirdFruit = fruitList[-2]\n",
    "secondFruit = fruitList[-3]\n",
    "print(\"Third fruit is\", thirdFruit)\n",
    "print(\"Second fruit is\", secondFruit)"
   ]
  },
  {
   "cell_type": "code",
   "execution_count": null,
   "metadata": {},
   "outputs": [],
   "source": [
    "# 12. Use a range of indexes to print the third, fourth, and fifth item in the list. [\"apple\", \"banana\", \"cherry\", \"orange\", \"kiwi\", \"melon\", \"mango\"]\n",
    "\n",
    "fruitList = [\"apple\", \"banana\", \"cherry\", \"orange\", \"kiwi\", \"melon\", \"mango\"]\n",
    "print(\"3rd, 4th & 5th items are\", fruitList[2:5])"
   ]
  },
  {
   "cell_type": "code",
   "execution_count": null,
   "metadata": {},
   "outputs": [],
   "source": [
    "# 13. Use the correct syntax to print the number of items in the list. [\"apple\", \"banana\", \"cherry\", \"orange\", \"kiwi\", \"melon\", \"mango\"]\n",
    "\n",
    "fruitList = [\"apple\", \"banana\", \"cherry\", \"orange\", \"kiwi\", \"melon\", \"mango\"]\n",
    "fruitCount = len(fruitList)\n",
    "print(\"Count of fruits is\", fruitCount)"
   ]
  },
  {
   "cell_type": "code",
   "execution_count": null,
   "metadata": {},
   "outputs": [],
   "source": [
    "# 14 Use the correct syntax to sort this list in reverse order [\"apple\", \"banana\", \"cherry\", \"orange\", \"kiwi\", \"melon\", \"mango\"]\n",
    "\n",
    "fruitList = [\"apple\", \"banana\", \"cherry\", \"orange\", \"kiwi\", \"melon\", \"mango\"]\n",
    "fruitList.sort(reverse=True)\n",
    "print(fruitList)"
   ]
  },
  {
   "attachments": {},
   "cell_type": "markdown",
   "metadata": {},
   "source": [
    "## 1. What does one need to do to use a module?\n",
    "### import\n",
    "\n",
    "## 2. Name a Module (not the DateTime Nodule) we looked at and write a line or 2 of code as an example using this module.\n",
    "### Math Module\n",
    "### import math as pie\n",
    "### print(pie.pi)\n",
    "\n",
    "## 3. What is a benefit of using Exception handling?\n",
    "### Makes errors easier to read\n",
    "\n",
    "## 4. what are the 4 components used for Python Exception Handling?\n",
    "### try, except, else, finally\n",
    "\n",
    "## 5. NumPy arrays are like what Python data type?\n",
    "### Similar to lists, EXCEPT: Lists store various data types, while Arrays store ONLY 1 specified data type\n",
    "\n",
    "## 6. What is one of the main benefits of using NumPy arrays.\n",
    "###  Less Memory - NumPy arrays occupy less memory as compared to lists\n",
    "\n",
    "## 7. What is one of the main requirements about the 'dtype' of NumPy arrays?\n",
    "### Specify which dtype - tuple\n",
    "### Each NumPy array must have the same data type. \n",
    "\n",
    "## 8. Of the 10 uses of NumPy, name 2.\n",
    "### Provides sophisticated broadcasting functions\n",
    "### Adds powerful data structures to Python that guarantee efficient calculations with arrays and matrices\n",
    "\n",
    "## 9. Name one of the other libraries we'll use with NumPy?\n",
    "### Pandas\n",
    "\n",
    "## 10. What is the shape of NumPy arrays?\n",
    "### Specifies array shape by dimension (Ex: 3-D), length (rows) and size (columns)\n",
    "\n",
    "## 11. What is a Tensor?\n",
    "### an array with 3+ dimensions\n",
    "\n",
    "## 12. Name a reason why it's better using NumPy for Data Analysis than using a Python List?\n",
    "### NumPy arrays are faster compared to lists\n",
    "\n",
    "\n",
    "## 13. When creating an \"empty\" array, where do the elements come from?\n",
    "### memory allocated for the array"
   ]
  },
  {
   "cell_type": "code",
   "execution_count": null,
   "metadata": {},
   "outputs": [],
   "source": [
    "# 1. Use the DateTime module to get Current Date and Time, and save it to a variable. Then extract just the Full month name form that variable.\n",
    "\n",
    "import datetime as dt\n",
    "\n",
    "currentDt = dt.datetime.now()\n",
    "print(currentDt)\n",
    "\n",
    "# Print out current month\n",
    "print(currentDt.strftime(\"%B\"))"
   ]
  },
  {
   "cell_type": "code",
   "execution_count": null,
   "metadata": {},
   "outputs": [],
   "source": [
    "# 2. Write a simple function that takes 2 parameters -- a first name and a day name.\n",
    "  # Set a default value for the day name of Sunday.\n",
    "def my_name(firstName, dayName=\"Sunday\"):\n",
    "  # Have the function print out a greeting -- using the parameters -- that says something like \"Hi first-name! Happy day-name!\". Remember to use the variables in the greeting to replace first-name and day-name.\n",
    "  print(f\"Hi, {firstName}, Happy {dayName}\")\n",
    "\n",
    "# Invoke this function with 2 variables.\n",
    "my_name(\"Eric\", \"Monday\")\n",
    "\n",
    "# Invoke this function with 1 variable only.\n",
    "my_name(\"Eric\")"
   ]
  },
  {
   "cell_type": "code",
   "execution_count": null,
   "metadata": {},
   "outputs": [],
   "source": [
    "\n",
    "# 3. Write a block of code to handle one of the most common Python exception errors. Select one of the common errors from the curriculum section on Python Exception handling. Have your code example uses the try,except, else, and finally components.\n",
    "\n",
    "try: \n",
    "    age = input(\"How old are you?\")\n",
    "    int(age)\n",
    "\n",
    "except:\n",
    "    print(\"Type a number\")\n",
    "\n",
    "else: \n",
    "    print(\"You are\", age, \"old!\")\n",
    "\n",
    "finally:\n",
    "    print(\"It is over!\")"
   ]
  }
 ],
 "metadata": {
  "kernelspec": {
   "display_name": "Python 3",
   "language": "python",
   "name": "python3"
  },
  "language_info": {
   "codemirror_mode": {
    "name": "ipython",
    "version": 3
   },
   "file_extension": ".py",
   "mimetype": "text/x-python",
   "name": "python",
   "nbconvert_exporter": "python",
   "pygments_lexer": "ipython3",
   "version": "3.11.3"
  },
  "orig_nbformat": 4
 },
 "nbformat": 4,
 "nbformat_minor": 2
}
